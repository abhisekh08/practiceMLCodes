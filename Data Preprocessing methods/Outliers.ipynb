{
  "nbformat": 4,
  "nbformat_minor": 0,
  "metadata": {
    "colab": {
      "name": "Outliers.ipynb",
      "provenance": []
    },
    "kernelspec": {
      "name": "python3",
      "display_name": "Python 3"
    }
  },
  "cells": [
    {
      "cell_type": "markdown",
      "metadata": {
        "id": "lHOm1SL7Dt51"
      },
      "source": [
        "**OUTLIERS**"
      ]
    },
    {
      "cell_type": "markdown",
      "metadata": {
        "id": "l9TsXp0pDztz"
      },
      "source": [
        "Outliers are those data points in a dataset which shows characteristics outside the general range of the dataset."
      ]
    },
    {
      "cell_type": "markdown",
      "metadata": {
        "id": "dOUrWAgxD4F1"
      },
      "source": [
        "**Effect of Outliers**"
      ]
    },
    {
      "cell_type": "markdown",
      "metadata": {
        "id": "-4WjapI-D6ht"
      },
      "source": [
        "- they tends to create deviations in the data parameters like mean, std deviation etc"
      ]
    },
    {
      "cell_type": "markdown",
      "metadata": {
        "id": "rDWdkhCAE80V"
      },
      "source": [
        "**Source of outliers**"
      ]
    },
    {
      "cell_type": "markdown",
      "metadata": {
        "id": "za5W2-JHFGCx"
      },
      "source": [
        "- Experimental Errors in the observations\r\n",
        "- External factors while performing the experiment\r\n",
        "- variation in the source of data collection"
      ]
    },
    {
      "cell_type": "markdown",
      "metadata": {
        "id": "HtZcLzecFapK"
      },
      "source": [
        "**Methods to detect Outliers in a dataset**"
      ]
    },
    {
      "cell_type": "markdown",
      "metadata": {
        "id": "sFLvZlaSFfu9"
      },
      "source": [
        "- Scatter plot\r\n",
        "- Box plot\r\n",
        "- Z-score method\r\n",
        "- Inter Quartile Range Method"
      ]
    },
    {
      "cell_type": "markdown",
      "metadata": {
        "id": "baUGm0hrFsUZ"
      },
      "source": [
        "**Lets check some outliers**"
      ]
    },
    {
      "cell_type": "code",
      "metadata": {
        "id": "zjtgUvCBDqY8"
      },
      "source": [
        "dataset= [11,10,12,14,12,15,14,13,15,102,12,14,17,19,107, 10,13,12,14,12,108,12,11,14,13,15,10,15,12,10,14,13,15,10]"
      ],
      "execution_count": 110,
      "outputs": []
    },
    {
      "cell_type": "markdown",
      "metadata": {
        "id": "o6j1gyEKGKBb"
      },
      "source": [
        "As you can see the dataset have 3 points which are above 100.\r\n",
        "- check whats the mean and std deviation with those 3 100+ value and without them"
      ]
    },
    {
      "cell_type": "code",
      "metadata": {
        "id": "2FvyhZrdGeR7"
      },
      "source": [
        "import numpy as np\r\n",
        "import matplotlib.pyplot as plt\r\n",
        "%matplotlib inline"
      ],
      "execution_count": 111,
      "outputs": []
    },
    {
      "cell_type": "code",
      "metadata": {
        "colab": {
          "base_uri": "https://localhost:8080/"
        },
        "id": "A1n8q655DxVa",
        "outputId": "4ce01cd4-1a7a-4b2e-a55c-f2cacc933127"
      },
      "source": [
        "# with outliers\r\n",
        "mean = np.mean(dataset)\r\n",
        "std = np.std(dataset)\r\n",
        "print(f'the mean is {mean} and standard deviation is {std} with the outliers')"
      ],
      "execution_count": 112,
      "outputs": [
        {
          "output_type": "stream",
          "text": [
            "the mean is 21.176470588235293 and standard deviation is 26.37230118696876 with the outliers\n"
          ],
          "name": "stdout"
        }
      ]
    },
    {
      "cell_type": "code",
      "metadata": {
        "colab": {
          "base_uri": "https://localhost:8080/"
        },
        "id": "Bws8L7svGstu",
        "outputId": "5a434885-0827-4777-9ca8-1c9a7dfcae37"
      },
      "source": [
        "# without outliers\r\n",
        "dataset_without_outliers = [element for element in dataset if element < 100]\r\n",
        "mean = np.mean(dataset_without_outliers)\r\n",
        "std = np.std(dataset_without_outliers)\r\n",
        "print(f'the mean is {mean} and standard deviation is {std} with the outliers')"
      ],
      "execution_count": 113,
      "outputs": [
        {
          "output_type": "stream",
          "text": [
            "the mean is 13.0 and standard deviation is 2.109884571066817 with the outliers\n"
          ],
          "name": "stdout"
        }
      ]
    },
    {
      "cell_type": "markdown",
      "metadata": {
        "id": "fIrsxAtOOM7p"
      },
      "source": [
        "As can be seen the presence of outliers shifts the mean and Std to higher or lower side than the general values"
      ]
    },
    {
      "cell_type": "markdown",
      "metadata": {
        "id": "KtEO7hjqOdpV"
      },
      "source": [
        "**Check for outliers using Scatter plot**"
      ]
    },
    {
      "cell_type": "code",
      "metadata": {
        "colab": {
          "base_uri": "https://localhost:8080/",
          "height": 445
        },
        "id": "VVDDv6HsLTjd",
        "outputId": "15a0375b-ef70-4eb3-c25d-c719a2a6e4a1"
      },
      "source": [
        "plt.figure(figsize=(10,7))\r\n",
        "plt.scatter(np.arange(0,len(dataset)),np.array(dataset))\r\n",
        "plt.plot()"
      ],
      "execution_count": 114,
      "outputs": [
        {
          "output_type": "execute_result",
          "data": {
            "text/plain": [
              "[]"
            ]
          },
          "metadata": {
            "tags": []
          },
          "execution_count": 114
        },
        {
          "output_type": "display_data",
          "data": {
            "image/png": "[encoded data removed]",
            "text/plain": [
              "<Figure size 720x504 with 1 Axes>"
            ]
          },
          "metadata": {
            "tags": [],
            "needs_background": "light"
          }
        }
      ]
    },
    {
      "cell_type": "markdown",
      "metadata": {
        "id": "9QluQRJ1QKG5"
      },
      "source": [
        "**Check using Box plot**"
      ]
    },
    {
      "cell_type": "code",
      "metadata": {
        "colab": {
          "base_uri": "https://localhost:8080/",
          "height": 445
        },
        "id": "xlLrqvmjMf1r",
        "outputId": "d37e44fc-0e3b-4507-fcf5-64033aac1813"
      },
      "source": [
        "plt.figure(figsize=(10,7))\r\n",
        "plt.boxplot(np.array(dataset))\r\n",
        "plt.plot()"
      ],
      "execution_count": 115,
      "outputs": [
        {
          "output_type": "execute_result",
          "data": {
            "text/plain": [
              "[]"
            ]
          },
          "metadata": {
            "tags": []
          },
          "execution_count": 115
        },
        {
          "output_type": "display_data",
          "data": {
            "image/png": "[encoded data removed]",
            "text/plain": [
              "<Figure size 720x504 with 1 Axes>"
            ]
          },
          "metadata": {
            "tags": [],
            "needs_background": "light"
          }
        }
      ]
    },
    {
      "cell_type": "markdown",
      "metadata": {
        "id": "ZlK-P3V1UHvQ"
      },
      "source": [
        "**Using Z score**"
      ]
    },
    {
      "cell_type": "markdown",
      "metadata": {
        "id": "UEDaUyKOUMU7"
      },
      "source": [
        "Z score = (Observation - mean)/ Standard Deviation\r\n",
        "\r\n",
        "Theory:\r\n",
        "- in a normal distribution most of the datapoints appears to be within the range of std deviation of 3. so we will be checking if any point is outside that range or not."
      ]
    },
    {
      "cell_type": "code",
      "metadata": {
        "colab": {
          "base_uri": "https://localhost:8080/"
        },
        "id": "LJ92m2hiRdgB",
        "outputId": "3042ff93-73cd-458e-ddf3-0c8918ea2100"
      },
      "source": [
        "outliers = []\r\n",
        "\r\n",
        "threshold = 3\r\n",
        "mean = np.mean(dataset)\r\n",
        "std = np.std(dataset)\r\n",
        "print(f'the mean is {mean} and standard deviation is {std}')\r\n",
        "\r\n",
        "\r\n",
        "for element in dataset:\r\n",
        "  zscore = np.abs((element-mean)/std)\r\n",
        "\r\n",
        "  if zscore > threshold:\r\n",
        "    outliers.append(element)\r\n",
        "print(outliers)"
      ],
      "execution_count": 116,
      "outputs": [
        {
          "output_type": "stream",
          "text": [
            "the mean is 21.176470588235293 and standard deviation is 26.37230118696876\n",
            "[102, 107, 108]\n"
          ],
          "name": "stdout"
        }
      ]
    },
    {
      "cell_type": "markdown",
      "metadata": {
        "id": "M-48xK0GiPk3"
      },
      "source": [
        "**Check using Inter Quartile Range**\r\n",
        "- Sort the data points\r\n",
        "- find the 25% and 75% percentile\r\n",
        "- IQR = 75% - 25%\r\n",
        "- lower bound = 25% percentile - 1.5*IQR\r\n",
        "- upper bound = 75% percentile + 1.5*IQR\r\n",
        "- if data point > upper bound or data point < lower bound -> outliers "
      ]
    },
    {
      "cell_type": "code",
      "metadata": {
        "id": "NNexd8kxU_WL"
      },
      "source": [
        "dataset_sorted = sorted(dataset)"
      ],
      "execution_count": 117,
      "outputs": []
    },
    {
      "cell_type": "code",
      "metadata": {
        "colab": {
          "base_uri": "https://localhost:8080/"
        },
        "id": "GRydfYB0dDFF",
        "outputId": "f73da1c9-74c4-4001-d4fb-bd52f5852ca8"
      },
      "source": [
        "lower,upper = np.percentile(dataset_sorted,(25,75))\r\n",
        "IQR = upper - lower\r\n",
        "lowerbound = lower - 1.5*IQR\r\n",
        "upperbound = upper + 1.5*IQR\r\n",
        "print(f'IQR {IQR},\\nlowerbound {lowerbound},\\nupperbound {upperbound},\\nlower {lower},\\nupper {upper}')"
      ],
      "execution_count": 118,
      "outputs": [
        {
          "output_type": "stream",
          "text": [
            "IQR 3.0,\n",
            "lowerbound 7.5,\n",
            "upperbound 19.5,\n",
            "lower 12.0,\n",
            "upper 15.0\n"
          ],
          "name": "stdout"
        }
      ]
    },
    {
      "cell_type": "code",
      "metadata": {
        "id": "ZWHzOyXsj2dJ"
      },
      "source": [
        "outpoints = [element for element in dataset if (element < lowerbound) or (element > upperbound)]"
      ],
      "execution_count": 119,
      "outputs": []
    },
    {
      "cell_type": "code",
      "metadata": {
        "colab": {
          "base_uri": "https://localhost:8080/"
        },
        "id": "3a5gKLfqkCIO",
        "outputId": "66c0e6da-7f7e-4166-bf41-c86f091e4ba3"
      },
      "source": [
        "outpoints"
      ],
      "execution_count": 120,
      "outputs": [
        {
          "output_type": "execute_result",
          "data": {
            "text/plain": [
              "[102, 107, 108]"
            ]
          },
          "metadata": {
            "tags": []
          },
          "execution_count": 120
        }
      ]
    }
  ]
}