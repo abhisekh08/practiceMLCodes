{
  "nbformat": 4,
  "nbformat_minor": 0,
  "metadata": {
    "colab": {
      "name": "Cluster_Validation.ipynb",
      "provenance": []
    },
    "kernelspec": {
      "name": "python3",
      "display_name": "Python 3"
    }
  },
  "cells": [
    {
      "cell_type": "markdown",
      "metadata": {
        "id": "v8FEgOMuesvk"
      },
      "source": [
        "**Cluster Validation**\r\n"
      ]
    },
    {
      "cell_type": "markdown",
      "metadata": {
        "id": "YbiFqi8we43u"
      },
      "source": [
        "Aim is to check if the number of clusters used is good or not for the model\r\n",
        "\r\n",
        "**Methods used**\r\n",
        "- Elbow Method\r\n",
        "- Silhoutte score Method"
      ]
    },
    {
      "cell_type": "markdown",
      "metadata": {
        "id": "C_E-GB6ZfRuZ"
      },
      "source": [
        "**ELBOW METHOD**\r\n",
        "\r\n",
        "This is the method in which the plot is drawn with Cluster count Vs Squared Sum Error and the bend in the plotted line is accepted as the optimum number of cluster count."
      ]
    },
    {
      "cell_type": "code",
      "metadata": {
        "id": "UENMUby8eo9y"
      },
      "source": [
        "import numpy as np\r\n",
        "import pandas as pd\r\n",
        "import matplotlib.pyplot as plt\r\n",
        "import sklearn\r\n",
        "%matplotlib inline"
      ],
      "execution_count": 1,
      "outputs": []
    },
    {
      "cell_type": "code",
      "metadata": {
        "id": "_akn7YW4eyV-"
      },
      "source": [
        "from sklearn.datasets import load_iris\r\n",
        "dataset = load_iris()"
      ],
      "execution_count": 2,
      "outputs": []
    },
    {
      "cell_type": "code",
      "metadata": {
        "colab": {
          "base_uri": "https://localhost:8080/"
        },
        "id": "yS6IyCefjlf6",
        "outputId": "753badbb-a7c4-467f-f379-56a03a346d9e"
      },
      "source": [
        "dataset.target_names"
      ],
      "execution_count": 3,
      "outputs": [
        {
          "output_type": "execute_result",
          "data": {
            "text/plain": [
              "array(['setosa', 'versicolor', 'virginica'], dtype='<U10')"
            ]
          },
          "metadata": {
            "tags": []
          },
          "execution_count": 3
        }
      ]
    },
    {
      "cell_type": "code",
      "metadata": {
        "colab": {
          "base_uri": "https://localhost:8080/",
          "height": 406
        },
        "id": "fOMjvYVjjoXj",
        "outputId": "9862e5d2-d2fa-455a-9e10-087640b5e956"
      },
      "source": [
        "X = pd.DataFrame(dataset.data,columns=dataset.feature_names)\r\n",
        "X"
      ],
      "execution_count": 4,
      "outputs": [
        {
          "output_type": "execute_result",
          "data": {
            "text/html": [
              "<div>\n",
              "<style scoped>\n",
              "    .dataframe tbody tr th:only-of-type {\n",
              "        vertical-align: middle;\n",
              "    }\n",
              "\n",
              "    .dataframe tbody tr th {\n",
              "        vertical-align: top;\n",
              "    }\n",
              "\n",
              "    .dataframe thead th {\n",
              "        text-align: right;\n",
              "    }\n",
              "</style>\n",
              "<table border=\"1\" class=\"dataframe\">\n",
              "  <thead>\n",
              "    <tr style=\"text-align: right;\">\n",
              "      <th></th>\n",
              "      <th>sepal length (cm)</th>\n",
              "      <th>sepal width (cm)</th>\n",
              "      <th>petal length (cm)</th>\n",
              "      <th>petal width (cm)</th>\n",
              "    </tr>\n",
              "  </thead>\n",
              "  <tbody>\n",
              "    <tr>\n",
              "      <th>0</th>\n",
              "      <td>5.1</td>\n",
              "      <td>3.5</td>\n",
              "      <td>1.4</td>\n",
              "      <td>0.2</td>\n",
              "    </tr>\n",
              "    <tr>\n",
              "      <th>1</th>\n",
              "      <td>4.9</td>\n",
              "      <td>3.0</td>\n",
              "      <td>1.4</td>\n",
              "      <td>0.2</td>\n",
              "    </tr>\n",
              "    <tr>\n",
              "      <th>2</th>\n",
              "      <td>4.7</td>\n",
              "      <td>3.2</td>\n",
              "      <td>1.3</td>\n",
              "      <td>0.2</td>\n",
              "    </tr>\n",
              "    <tr>\n",
              "      <th>3</th>\n",
              "      <td>4.6</td>\n",
              "      <td>3.1</td>\n",
              "      <td>1.5</td>\n",
              "      <td>0.2</td>\n",
              "    </tr>\n",
              "    <tr>\n",
              "      <th>4</th>\n",
              "      <td>5.0</td>\n",
              "      <td>3.6</td>\n",
              "      <td>1.4</td>\n",
              "      <td>0.2</td>\n",
              "    </tr>\n",
              "    <tr>\n",
              "      <th>...</th>\n",
              "      <td>...</td>\n",
              "      <td>...</td>\n",
              "      <td>...</td>\n",
              "      <td>...</td>\n",
              "    </tr>\n",
              "    <tr>\n",
              "      <th>145</th>\n",
              "      <td>6.7</td>\n",
              "      <td>3.0</td>\n",
              "      <td>5.2</td>\n",
              "      <td>2.3</td>\n",
              "    </tr>\n",
              "    <tr>\n",
              "      <th>146</th>\n",
              "      <td>6.3</td>\n",
              "      <td>2.5</td>\n",
              "      <td>5.0</td>\n",
              "      <td>1.9</td>\n",
              "    </tr>\n",
              "    <tr>\n",
              "      <th>147</th>\n",
              "      <td>6.5</td>\n",
              "      <td>3.0</td>\n",
              "      <td>5.2</td>\n",
              "      <td>2.0</td>\n",
              "    </tr>\n",
              "    <tr>\n",
              "      <th>148</th>\n",
              "      <td>6.2</td>\n",
              "      <td>3.4</td>\n",
              "      <td>5.4</td>\n",
              "      <td>2.3</td>\n",
              "    </tr>\n",
              "    <tr>\n",
              "      <th>149</th>\n",
              "      <td>5.9</td>\n",
              "      <td>3.0</td>\n",
              "      <td>5.1</td>\n",
              "      <td>1.8</td>\n",
              "    </tr>\n",
              "  </tbody>\n",
              "</table>\n",
              "<p>150 rows × 4 columns</p>\n",
              "</div>"
            ],
            "text/plain": [
              "     sepal length (cm)  sepal width (cm)  petal length (cm)  petal width (cm)\n",
              "0                  5.1               3.5                1.4               0.2\n",
              "1                  4.9               3.0                1.4               0.2\n",
              "2                  4.7               3.2                1.3               0.2\n",
              "3                  4.6               3.1                1.5               0.2\n",
              "4                  5.0               3.6                1.4               0.2\n",
              "..                 ...               ...                ...               ...\n",
              "145                6.7               3.0                5.2               2.3\n",
              "146                6.3               2.5                5.0               1.9\n",
              "147                6.5               3.0                5.2               2.0\n",
              "148                6.2               3.4                5.4               2.3\n",
              "149                5.9               3.0                5.1               1.8\n",
              "\n",
              "[150 rows x 4 columns]"
            ]
          },
          "metadata": {
            "tags": []
          },
          "execution_count": 4
        }
      ]
    },
    {
      "cell_type": "code",
      "metadata": {
        "colab": {
          "base_uri": "https://localhost:8080/"
        },
        "id": "3kgWw0cEj1i4",
        "outputId": "68530603-756d-418b-a8a2-185c00e74183"
      },
      "source": [
        "Y = dataset.target\r\n",
        "Y"
      ],
      "execution_count": 5,
      "outputs": [
        {
          "output_type": "execute_result",
          "data": {
            "text/plain": [
              "array([0, 0, 0, 0, 0, 0, 0, 0, 0, 0, 0, 0, 0, 0, 0, 0, 0, 0, 0, 0, 0, 0,\n",
              "       0, 0, 0, 0, 0, 0, 0, 0, 0, 0, 0, 0, 0, 0, 0, 0, 0, 0, 0, 0, 0, 0,\n",
              "       0, 0, 0, 0, 0, 0, 1, 1, 1, 1, 1, 1, 1, 1, 1, 1, 1, 1, 1, 1, 1, 1,\n",
              "       1, 1, 1, 1, 1, 1, 1, 1, 1, 1, 1, 1, 1, 1, 1, 1, 1, 1, 1, 1, 1, 1,\n",
              "       1, 1, 1, 1, 1, 1, 1, 1, 1, 1, 1, 1, 2, 2, 2, 2, 2, 2, 2, 2, 2, 2,\n",
              "       2, 2, 2, 2, 2, 2, 2, 2, 2, 2, 2, 2, 2, 2, 2, 2, 2, 2, 2, 2, 2, 2,\n",
              "       2, 2, 2, 2, 2, 2, 2, 2, 2, 2, 2, 2, 2, 2, 2, 2, 2, 2])"
            ]
          },
          "metadata": {
            "tags": []
          },
          "execution_count": 5
        }
      ]
    },
    {
      "cell_type": "code",
      "metadata": {
        "colab": {
          "base_uri": "https://localhost:8080/"
        },
        "id": "egfU6FR-j9Sr",
        "outputId": "1ac79ba0-7630-403f-b5ab-54492e99699c"
      },
      "source": [
        "# Scaling of the dataset\r\n",
        "from sklearn.preprocessing import StandardScaler\r\n",
        "sc = StandardScaler()\r\n",
        "sc.fit(X)\r\n",
        "scaledX = sc.transform(X)\r\n",
        "scaledX.shape"
      ],
      "execution_count": 6,
      "outputs": [
        {
          "output_type": "execute_result",
          "data": {
            "text/plain": [
              "(150, 4)"
            ]
          },
          "metadata": {
            "tags": []
          },
          "execution_count": 6
        }
      ]
    },
    {
      "cell_type": "code",
      "metadata": {
        "id": "z2cav7JfkZcR"
      },
      "source": [
        "# Clustering of the datapoints using KMeans \r\n",
        "from sklearn.cluster import KMeans"
      ],
      "execution_count": 7,
      "outputs": []
    },
    {
      "cell_type": "code",
      "metadata": {
        "id": "stZJ5RhIlCAY"
      },
      "source": [
        "clusters = [2,3,4,5,6,7,8,8,9,10]\r\n",
        "sse = []\r\n",
        "for cluster_count in clusters:\r\n",
        "  km = KMeans(n_clusters=cluster_count,random_state=101)\r\n",
        "  km.fit(scaledX)\r\n",
        "\r\n",
        "  sse.append(km.inertia_)"
      ],
      "execution_count": 8,
      "outputs": []
    },
    {
      "cell_type": "code",
      "metadata": {
        "colab": {
          "base_uri": "https://localhost:8080/",
          "height": 422
        },
        "id": "IVH3YyEcmZ-e",
        "outputId": "1f4993c5-e98a-4bc7-a43a-53b749b72390"
      },
      "source": [
        "# Plot for Elbow Method \" SSE vs Cluster count\"\r\n",
        "\r\n",
        "plt.figure(figsize=(10,6))\r\n",
        "plt.xlabel(\"Number of clusters\")\r\n",
        "plt.ylabel(\"Squared sum Error\")\r\n",
        "plt.title(\"Elbow Method\")\r\n",
        "plt.plot(clusters,sse)\r\n"
      ],
      "execution_count": 9,
      "outputs": [
        {
          "output_type": "execute_result",
          "data": {
            "text/plain": [
              "[<matplotlib.lines.Line2D at 0x7ff3047b4ba8>]"
            ]
          },
          "metadata": {
            "tags": []
          },
          "execution_count": 9
        },
        {
          "output_type": "display_data",
          "data": {
            "image/png": "[encoded data removed]",
            "text/plain": [
              "<Figure size 720x432 with 1 Axes>"
            ]
          },
          "metadata": {
            "tags": [],
            "needs_background": "light"
          }
        }
      ]
    },
    {
      "cell_type": "markdown",
      "metadata": {
        "id": "GQ4VYWWKoA4E"
      },
      "source": [
        "From the above plot, we can see there is bend at cluster count of 2 and 3."
      ]
    },
    {
      "cell_type": "markdown",
      "metadata": {
        "id": "O3zZr34ToO0A"
      },
      "source": [
        "**SILHOUTTE SCORE METHOD**"
      ]
    },
    {
      "cell_type": "markdown",
      "metadata": {
        "id": "oVATKwxLrN-W"
      },
      "source": [
        "S = (A - B)/ Max(A,B)\r\n",
        "\r\n",
        "- S = Silhoutte Cofficient\r\n",
        "- A = Avg distance of the datapoint from other points in the cluster\r\n",
        "- B = Avg distance of the datapoint from other points in clusters to which the datapoint doesnot belong.\r\n",
        "\r\n",
        "Distance is measured in Euclidean"
      ]
    },
    {
      "cell_type": "code",
      "metadata": {
        "id": "Zc6v7e57mnsA"
      },
      "source": [
        "from sklearn.metrics import silhouette_samples,silhouette_score"
      ],
      "execution_count": 10,
      "outputs": []
    },
    {
      "cell_type": "code",
      "metadata": {
        "colab": {
          "base_uri": "https://localhost:8080/"
        },
        "id": "QXhvEZqasCjR",
        "outputId": "3e1190b2-a0b5-46a0-9630-df5fac1ec560"
      },
      "source": [
        "#for count in clusters:\r\n",
        "silscore = []\r\n",
        "for count in clusters:\r\n",
        "  km = KMeans(n_clusters=count,random_state=101)\r\n",
        "  km.fit(scaledX)\r\n",
        "  sil_score = silhouette_score(scaledX, km.labels_,metric=\"euclidean\")\r\n",
        "  silscore.append(sil_score)\r\n",
        "  print(f'silhoutte score for cluster {count} is {sil_score}')"
      ],
      "execution_count": 13,
      "outputs": [
        {
          "output_type": "stream",
          "text": [
            "silhoutte score for cluster 2 is 0.5817500491982808\n",
            "silhoutte score for cluster 3 is 0.45994823920518635\n",
            "silhoutte score for cluster 4 is 0.38193193551552046\n",
            "silhoutte score for cluster 5 is 0.3413927532719825\n",
            "silhoutte score for cluster 6 is 0.34580326351890284\n",
            "silhoutte score for cluster 7 is 0.3441009905453241\n",
            "silhoutte score for cluster 8 is 0.33563879212143244\n",
            "silhoutte score for cluster 8 is 0.33563879212143244\n",
            "silhoutte score for cluster 9 is 0.3313719551059903\n",
            "silhoutte score for cluster 10 is 0.34911400640720786\n"
          ],
          "name": "stdout"
        }
      ]
    },
    {
      "cell_type": "code",
      "metadata": {
        "colab": {
          "base_uri": "https://localhost:8080/",
          "height": 422
        },
        "id": "vWiwx1X_u5lO",
        "outputId": "c4c9e29d-b329-4a55-e481-100ee0e389e3"
      },
      "source": [
        "# Plot of silhoutte score vs cluster count\r\n",
        "\r\n",
        "plt.figure(figsize=(10,6))\r\n",
        "plt.xlabel(\"Number of clusters\")\r\n",
        "plt.ylabel(\"Silhoutte score\")\r\n",
        "plt.title(\"Silhoutte Analysis Method\")\r\n",
        "plt.plot(clusters,silscore)"
      ],
      "execution_count": 14,
      "outputs": [
        {
          "output_type": "execute_result",
          "data": {
            "text/plain": [
              "[<matplotlib.lines.Line2D at 0x7ff2fbefdbe0>]"
            ]
          },
          "metadata": {
            "tags": []
          },
          "execution_count": 14
        },
        {
          "output_type": "display_data",
          "data": {
            "image/png": "[encoded data removed]",
            "text/plain": [
              "<Figure size 720x432 with 1 Axes>"
            ]
          },
          "metadata": {
            "tags": [],
            "needs_background": "light"
          }
        }
      ]
    },
    {
      "cell_type": "markdown",
      "metadata": {
        "id": "4H7u_8GCx-Kk"
      },
      "source": [
        "As the cluster value of 2 is having high Silhoutte score, the optimal number of cluster is 2 "
      ]
    },
    {
      "cell_type": "code",
      "metadata": {
        "id": "Apa7uHeyxyj9"
      },
      "source": [
        ""
      ],
      "execution_count": null,
      "outputs": []
    }
  ]
}