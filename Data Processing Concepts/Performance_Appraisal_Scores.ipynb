{
  "nbformat": 4,
  "nbformat_minor": 0,
  "metadata": {
    "colab": {
      "name": "Performance_Appraisal_Scores.ipynb",
      "provenance": [],
      "collapsed_sections": []
    },
    "kernelspec": {
      "name": "python3",
      "display_name": "Python 3"
    }
  },
  "cells": [
    {
      "cell_type": "markdown",
      "metadata": {
        "id": "fK3kXYSNsyxN"
      },
      "source": [
        "**PERFORMANCE APPRAISAL SCORES**"
      ]
    },
    {
      "cell_type": "markdown",
      "metadata": {
        "id": "DFm5nL31s39b"
      },
      "source": [
        "After designing the models for day to day usage, we need to check how efficient our models are for real world predictions.\r\n",
        "\r\n",
        "So we use different appraisal methods to check the efficiency of the models.\r\n",
        "\r\n",
        "Since the problem statements are different, we cannot use the same metrics for all the appraisals."
      ]
    },
    {
      "cell_type": "markdown",
      "metadata": {
        "id": "wv1qJxWstTJH"
      },
      "source": [
        "**REGRESSION MODEL APPRAISAL**"
      ]
    },
    {
      "cell_type": "markdown",
      "metadata": {
        "id": "mydgcfBWtehb"
      },
      "source": [
        "- Accuracy score\r\n",
        "- Root Square Mean Error\r\n",
        "- Mean Square Error\r\n",
        "- Mean Absolute Error"
      ]
    },
    {
      "cell_type": "markdown",
      "metadata": {
        "id": "VGJuBVzttvun"
      },
      "source": [
        "**CLASSIFICATION MODEL APPRAISAL**"
      ]
    },
    {
      "cell_type": "markdown",
      "metadata": {
        "id": "-aXb20PXt2Gn"
      },
      "source": [
        "- Recall\r\n",
        "- Precision\r\n",
        "- F1 Score\r\n",
        "- ROC AOC Curve\r\n",
        "- Classification report\r\n",
        "- Confusion Metrix"
      ]
    },
    {
      "cell_type": "code",
      "metadata": {
        "id": "EJandzwXx6p-"
      },
      "source": [
        "import pandas as pd\r\n",
        "import numpy as np\r\n",
        "import sklearn\r\n",
        "from sklearn.datasets import load_iris, load_diabetes\r\n",
        "from sklearn.preprocessing import label_binarize\r\n",
        "import matplotlib.pyplot as plt\r\n",
        "%matplotlib inline"
      ],
      "execution_count": 65,
      "outputs": []
    },
    {
      "cell_type": "markdown",
      "metadata": {
        "id": "DcR-VXAex1RO"
      },
      "source": [
        "**STUDY OF REGRESSION MODEL**"
      ]
    },
    {
      "cell_type": "code",
      "metadata": {
        "id": "_VzavvkMt1fQ"
      },
      "source": [
        "# Dataset Preparations\r\n",
        "dataset = load_diabetes()\r\n",
        "Xdata = dataset.data\r\n",
        "Ydata = dataset.target"
      ],
      "execution_count": 66,
      "outputs": []
    },
    {
      "cell_type": "code",
      "metadata": {
        "colab": {
          "base_uri": "https://localhost:8080/"
        },
        "id": "-ir20iZlyWTq",
        "outputId": "2d6b2dcf-1cd2-4b25-c268-d1048c229aca"
      },
      "source": [
        "# Splitting of dataset\r\n",
        "from sklearn.model_selection import train_test_split\r\n",
        "Xtrain,Xtest,Ytrain,Ytest = train_test_split(Xdata,Ydata,test_size=0.3,random_state=101)\r\n",
        "Xtrain.shape,Xtest.shape,Ytrain.shape,Ytest.shape"
      ],
      "execution_count": 67,
      "outputs": [
        {
          "output_type": "execute_result",
          "data": {
            "text/plain": [
              "((309, 10), (133, 10), (309,), (133,))"
            ]
          },
          "metadata": {
            "tags": []
          },
          "execution_count": 67
        }
      ]
    },
    {
      "cell_type": "code",
      "metadata": {
        "id": "KBodn9awybp8"
      },
      "source": [
        "# Linear Regression\r\n",
        "from sklearn.linear_model import LinearRegression\r\n",
        "lr = LinearRegression()\r\n",
        "lr.fit(Xtrain,Ytrain)\r\n",
        "Ypredictions = lr.predict(Xtest)"
      ],
      "execution_count": 68,
      "outputs": []
    },
    {
      "cell_type": "code",
      "metadata": {
        "id": "oTx6ACUhyvn4"
      },
      "source": [
        "from sklearn.metrics import mean_squared_error, mean_absolute_error, r2_score"
      ],
      "execution_count": 69,
      "outputs": []
    },
    {
      "cell_type": "markdown",
      "metadata": {
        "id": "psJgMgO1Xtmv"
      },
      "source": [
        "**MEAN SQUARED ERROR**\r\n",
        "\r\n",
        "MSE = avg [(Y Actual - Y Predicted)^2]"
      ]
    },
    {
      "cell_type": "code",
      "metadata": {
        "colab": {
          "base_uri": "https://localhost:8080/"
        },
        "id": "Ni4GACus4-Am",
        "outputId": "819dca56-4bcf-4215-d0e8-9680206c39cd"
      },
      "source": [
        "print(f'Mean Squared Error for the model is  {mean_squared_error(Ytest,Ypredictions)}')"
      ],
      "execution_count": 70,
      "outputs": [
        {
          "output_type": "stream",
          "text": [
            "Mean Squared Error for the model is  3365.0759915425383\n"
          ],
          "name": "stdout"
        }
      ]
    },
    {
      "cell_type": "markdown",
      "metadata": {
        "id": "3hGPX5N9Xu6E"
      },
      "source": [
        "**MEAN ABSOLUTE ERROR**\r\n",
        "\r\n",
        "MAE = avg (abs(Y Actual - Y Predicted))"
      ]
    },
    {
      "cell_type": "code",
      "metadata": {
        "colab": {
          "base_uri": "https://localhost:8080/"
        },
        "id": "2p4KQpjl49Sn",
        "outputId": "41afedf7-3200-482f-b9bb-d08ee449a766"
      },
      "source": [
        "print(f'Mean Absolute Error for the model is  {mean_absolute_error(Ytest,Ypredictions)}')"
      ],
      "execution_count": 71,
      "outputs": [
        {
          "output_type": "stream",
          "text": [
            "Mean Absolute Error for the model is  46.021951395698274\n"
          ],
          "name": "stdout"
        }
      ]
    },
    {
      "cell_type": "markdown",
      "metadata": {
        "id": "9FkbFQRYXxXW"
      },
      "source": [
        "**ROOT MEAN SQUARED ERROR**\r\n",
        "\r\n",
        "RMSE = SQRT[avg [(Y Actual - Y Predicted)^2]]\r\n",
        "\r\n"
      ]
    },
    {
      "cell_type": "code",
      "metadata": {
        "colab": {
          "base_uri": "https://localhost:8080/"
        },
        "id": "kJnAytj_5b0I",
        "outputId": "8871535d-0500-4cdb-8348-183055520e3c"
      },
      "source": [
        "print(f'Root Mean Squared Error for the model is  {np.sqrt(mean_absolute_error(Ytest,Ypredictions))}')"
      ],
      "execution_count": 72,
      "outputs": [
        {
          "output_type": "stream",
          "text": [
            "Root Mean Squared Error for the model is  6.783948068470032\n"
          ],
          "name": "stdout"
        }
      ]
    },
    {
      "cell_type": "markdown",
      "metadata": {
        "id": "tQ7BDGxR5nXF"
      },
      "source": [
        "**R2 Score**\r\n",
        "\r\n",
        "R-squared = Explained variation / Total variation"
      ]
    },
    {
      "cell_type": "code",
      "metadata": {
        "colab": {
          "base_uri": "https://localhost:8080/"
        },
        "id": "UvS-Vzee5NTz",
        "outputId": "87735db4-ba8a-4107-a3b9-420a1d6858b9"
      },
      "source": [
        "print(f'R2 Score for the model is  {r2_score(Ytest,Ypredictions)}')"
      ],
      "execution_count": 73,
      "outputs": [
        {
          "output_type": "stream",
          "text": [
            "R2 Score for the model is  0.45767674177195583\n"
          ],
          "name": "stdout"
        }
      ]
    },
    {
      "cell_type": "markdown",
      "metadata": {
        "id": "szgsxS-M0Vn5"
      },
      "source": [
        "**STUDY OF CLASSIFICATION MODEL**"
      ]
    },
    {
      "cell_type": "code",
      "metadata": {
        "id": "cn3gydMK0aHv"
      },
      "source": [
        "# Dataset Preparations\r\n",
        "dataset = load_iris()\r\n",
        "Xdata = dataset.data\r\n",
        "Ydata = dataset.target"
      ],
      "execution_count": 25,
      "outputs": []
    },
    {
      "cell_type": "code",
      "metadata": {
        "colab": {
          "base_uri": "https://localhost:8080/"
        },
        "id": "KevXt0C72P23",
        "outputId": "f56260b6-0895-476e-f3f4-a95a8e8539e2"
      },
      "source": [
        "Xdata.shape, Ydata.shape"
      ],
      "execution_count": 26,
      "outputs": [
        {
          "output_type": "execute_result",
          "data": {
            "text/plain": [
              "((150, 4), (150,))"
            ]
          },
          "metadata": {
            "tags": []
          },
          "execution_count": 26
        }
      ]
    },
    {
      "cell_type": "code",
      "metadata": {
        "colab": {
          "base_uri": "https://localhost:8080/"
        },
        "id": "Ks2CZEMS0fkC",
        "outputId": "b5ad6a5b-bea2-4b48-9849-3ca2cf686129"
      },
      "source": [
        "# Splitting of dataset\r\n",
        "from sklearn.model_selection import train_test_split\r\n",
        "Xtrain,Xtest,Ytrain,Ytest = train_test_split(Xdata,Ydata,test_size=0.3,random_state=101)\r\n",
        "Xtrain.shape,Xtest.shape,Ytrain.shape,Ytest.shape"
      ],
      "execution_count": 27,
      "outputs": [
        {
          "output_type": "execute_result",
          "data": {
            "text/plain": [
              "((105, 4), (45, 4), (105,), (45,))"
            ]
          },
          "metadata": {
            "tags": []
          },
          "execution_count": 27
        }
      ]
    },
    {
      "cell_type": "code",
      "metadata": {
        "id": "kTLofi3-3rMA"
      },
      "source": [
        "# Scaling of data\r\n",
        "from sklearn.preprocessing import StandardScaler\r\n",
        "ss = StandardScaler()\r\n",
        "Xtrain = ss.fit_transform(Xtrain)\r\n",
        "Xtest = ss.transform(Xtest)"
      ],
      "execution_count": 28,
      "outputs": []
    },
    {
      "cell_type": "code",
      "metadata": {
        "id": "XSdy_47P0iyJ"
      },
      "source": [
        "# Logistic Regression\r\n",
        "from sklearn.linear_model import LogisticRegression\r\n",
        "lr = LogisticRegression()\r\n",
        "lr.fit(Xtrain,Ytrain)\r\n",
        "Ypredictions = lr.predict(Xtest)"
      ],
      "execution_count": 29,
      "outputs": []
    },
    {
      "cell_type": "code",
      "metadata": {
        "id": "7gl1ahJ8ZEve"
      },
      "source": [
        "from sklearn.metrics import recall_score, f1_score, precision_score, accuracy_score"
      ],
      "execution_count": 30,
      "outputs": []
    },
    {
      "cell_type": "markdown",
      "metadata": {
        "id": "_xrS0Oy2Y7pl"
      },
      "source": [
        "**Accuracy Score**\r\n",
        "\r\n",
        "score = (True Positive + True Negative) / (true positive + true negative + false positive + false Negative)"
      ]
    },
    {
      "cell_type": "code",
      "metadata": {
        "colab": {
          "base_uri": "https://localhost:8080/"
        },
        "id": "Px0uFZyP0sVD",
        "outputId": "dd2fd498-8b97-4bf6-b9d7-55a79501f1d9"
      },
      "source": [
        "print(f'Accuracy score of the model is {accuracy_score(Ypredictions,Ytest)}')"
      ],
      "execution_count": 31,
      "outputs": [
        {
          "output_type": "stream",
          "text": [
            "Accuracy score of the model is 0.9777777777777777\n"
          ],
          "name": "stdout"
        }
      ]
    },
    {
      "cell_type": "markdown",
      "metadata": {
        "id": "Sz37fNexY9Te"
      },
      "source": [
        "**Recall Score**\r\n",
        "\r\n",
        "Recall score = true positive / (true positve + false negative)"
      ]
    },
    {
      "cell_type": "code",
      "metadata": {
        "colab": {
          "base_uri": "https://localhost:8080/"
        },
        "id": "ZalSkoTp35jD",
        "outputId": "ca65c45e-ddb4-4c86-d746-af2e3ee0034a"
      },
      "source": [
        "print(f'Recall score of the model is {recall_score(Ypredictions,Ytest,average=\"weighted\")}')"
      ],
      "execution_count": 35,
      "outputs": [
        {
          "output_type": "stream",
          "text": [
            "Recall score of the model is 0.9777777777777777\n"
          ],
          "name": "stdout"
        }
      ]
    },
    {
      "cell_type": "markdown",
      "metadata": {
        "id": "s50PmhT4Y-6r"
      },
      "source": [
        "**Precision Score**\r\n",
        "\r\n",
        "Precision score = true positive / [true postive + false postive]"
      ]
    },
    {
      "cell_type": "code",
      "metadata": {
        "colab": {
          "base_uri": "https://localhost:8080/"
        },
        "id": "1YMLajv0Y_qH",
        "outputId": "2da25753-8a83-483f-d205-df8a37a98f9b"
      },
      "source": [
        "print(f'Presicion score of the model is {precision_score(Ypredictions,Ytest,average=\"weighted\")}')"
      ],
      "execution_count": 36,
      "outputs": [
        {
          "output_type": "stream",
          "text": [
            "Presicion score of the model is 0.9788888888888888\n"
          ],
          "name": "stdout"
        }
      ]
    },
    {
      "cell_type": "markdown",
      "metadata": {
        "id": "TMd8X5CrZAYg"
      },
      "source": [
        "**F1 Score**\r\n",
        "\r\n",
        "Harmonic Mean of Recall and Precision\r\n",
        "F1 score  = 2* [Recall * Precision ]/[Recall + Precision]"
      ]
    },
    {
      "cell_type": "code",
      "metadata": {
        "colab": {
          "base_uri": "https://localhost:8080/"
        },
        "id": "MBzUi-1hZA50",
        "outputId": "64ffb647-c2f0-4d9f-c255-fa2e7efe0676"
      },
      "source": [
        "print(f'F1 score of the model is {f1_score(Ypredictions,Ytest,average=\"weighted\")}')"
      ],
      "execution_count": 38,
      "outputs": [
        {
          "output_type": "stream",
          "text": [
            "F1 score of the model is 0.9776182336182336\n"
          ],
          "name": "stdout"
        }
      ]
    },
    {
      "cell_type": "markdown",
      "metadata": {
        "id": "a5l2HJBzbk8E"
      },
      "source": [
        "**Classification Report**"
      ]
    },
    {
      "cell_type": "code",
      "metadata": {
        "colab": {
          "base_uri": "https://localhost:8080/"
        },
        "id": "iA-4wzCtbfEr",
        "outputId": "6d15b066-05be-4e3d-e6ef-61e8bd58e4ab"
      },
      "source": [
        "from sklearn.metrics import classification_report\r\n",
        "print(classification_report(Ypredictions,Ytest))"
      ],
      "execution_count": 39,
      "outputs": [
        {
          "output_type": "stream",
          "text": [
            "              precision    recall  f1-score   support\n",
            "\n",
            "           0       1.00      1.00      1.00        13\n",
            "           1       0.95      1.00      0.97        19\n",
            "           2       1.00      0.92      0.96        13\n",
            "\n",
            "    accuracy                           0.98        45\n",
            "   macro avg       0.98      0.97      0.98        45\n",
            "weighted avg       0.98      0.98      0.98        45\n",
            "\n"
          ],
          "name": "stdout"
        }
      ]
    },
    {
      "cell_type": "markdown",
      "metadata": {
        "id": "Fld0PFJ3boPz"
      },
      "source": [
        "**Confusion Matrix**"
      ]
    },
    {
      "cell_type": "code",
      "metadata": {
        "colab": {
          "base_uri": "https://localhost:8080/"
        },
        "id": "eC-bedzPbrCx",
        "outputId": "a108c5fb-e7d8-4a86-a548-a6af89c17697"
      },
      "source": [
        "from sklearn.metrics import confusion_matrix\r\n",
        "print(confusion_matrix(Ypredictions,Ytest))"
      ],
      "execution_count": 40,
      "outputs": [
        {
          "output_type": "stream",
          "text": [
            "[[13  0  0]\n",
            " [ 0 19  0]\n",
            " [ 0  1 12]]\n"
          ],
          "name": "stdout"
        }
      ]
    },
    {
      "cell_type": "markdown",
      "metadata": {
        "id": "EVIyinvycfh8"
      },
      "source": [
        "**ROC AOC Curve**\r\n",
        "\r\n",
        "- ROC -> Receiver operating Characteristic Curve is the curve plotted between Sensitivity Vs [1 - Specificity]\r\n",
        "\r\n",
        "- Sensitivity is the True Positive Rate -> TP / (TP + FN)\r\n",
        "\r\n",
        "- Specificity is the True Negative rate -> TN/(TN + FP)\r\n",
        "\r\n",
        "- 1-Specificity -> FP / (TN + FP)\r\n",
        "\r\n",
        "- AUC -> Area under Curve is the ability of the classifier to classify the various classes\r\n",
        "\r\n"
      ]
    },
    {
      "cell_type": "code",
      "metadata": {
        "id": "vpWXSX0scKJO"
      },
      "source": [
        "# Import some data to play with\r\n",
        "iris = load_iris()\r\n",
        "X = iris.data\r\n",
        "Y = iris.target"
      ],
      "execution_count": 44,
      "outputs": []
    },
    {
      "cell_type": "code",
      "metadata": {
        "id": "0Ijev8Xk3GPk"
      },
      "source": [
        "# Binarize the output\r\n",
        "Y = label_binarize(Y, classes=[0, 1, 2])\r\n",
        "n_classes = Y.shape[1]"
      ],
      "execution_count": 47,
      "outputs": []
    },
    {
      "cell_type": "code",
      "metadata": {
        "id": "oZ_Wela03L3e"
      },
      "source": [
        "# Add noisy features to make the problem harder\r\n",
        "random_state = np.random.RandomState(0)\r\n",
        "n_samples, n_features = X.shape\r\n",
        "X = np.c_[X, random_state.randn(n_samples, 200 * n_features)]"
      ],
      "execution_count": 48,
      "outputs": []
    },
    {
      "cell_type": "code",
      "metadata": {
        "id": "Mg3ehYoW3Pll"
      },
      "source": [
        "# shuffle and split training and test sets\r\n",
        "X_train, X_test, y_train, y_test = train_test_split(X, Y, test_size=.5,\r\n",
        "                                                    random_state=101)"
      ],
      "execution_count": 49,
      "outputs": []
    },
    {
      "cell_type": "code",
      "metadata": {
        "id": "-lGmoUUl3aCm"
      },
      "source": [
        "# Learn to predict each class against the other\r\n",
        "from sklearn.multiclass import OneVsRestClassifier\r\n",
        "from sklearn.svm import SVC\r\n",
        "from sklearn.metrics import roc_curve,auc\r\n",
        "\r\n",
        "classifier = OneVsRestClassifier(SVC(kernel='linear', probability=True,\r\n",
        "                                 random_state=random_state))\r\n",
        "y_score = classifier.fit(X_train, y_train).decision_function(X_test)"
      ],
      "execution_count": 57,
      "outputs": []
    },
    {
      "cell_type": "code",
      "metadata": {
        "id": "ARv7iRPl3dEl"
      },
      "source": [
        "# Compute ROC curve and ROC area for each class\r\n",
        "fpr = dict()\r\n",
        "tpr = dict()\r\n",
        "roc_auc = dict()\r\n",
        "for i in range(n_classes):\r\n",
        "    fpr[i], tpr[i], _ = roc_curve(y_test[:, i], y_score[:, i])\r\n",
        "    roc_auc[i] = auc(fpr[i], tpr[i])"
      ],
      "execution_count": 58,
      "outputs": []
    },
    {
      "cell_type": "code",
      "metadata": {
        "id": "GjFnaynl3fyF"
      },
      "source": [
        "# Compute micro-average ROC curve and ROC area\r\n",
        "fpr[\"micro\"], tpr[\"micro\"], _ = roc_curve(y_test.ravel(), y_score.ravel())\r\n",
        "roc_auc[\"micro\"] = auc(fpr[\"micro\"], tpr[\"micro\"])"
      ],
      "execution_count": 59,
      "outputs": []
    },
    {
      "cell_type": "code",
      "metadata": {
        "colab": {
          "base_uri": "https://localhost:8080/",
          "height": 294
        },
        "id": "HKdU-Ndh0NyU",
        "outputId": "97ca174f-fcc0-4398-e0fe-a24a7e732f4e"
      },
      "source": [
        "# Plot of graph \"Sensitivity(True Positive rate) Vs 1-Specificity\"\r\n",
        "plt.figure()\r\n",
        "lw = 2\r\n",
        "plt.plot(fpr[2], tpr[2], color='darkorange',\r\n",
        "         lw=lw, label='ROC curve (area = %0.2f)' % roc_auc[2])\r\n",
        "plt.plot([0, 1], [0, 1], color='navy', lw=lw, linestyle='--')\r\n",
        "plt.xlim([0.0, 1.0])\r\n",
        "plt.ylim([0.0, 1.05])\r\n",
        "plt.xlabel('False Positive Rate')\r\n",
        "plt.ylabel('True Positive Rate')\r\n",
        "plt.title('Receiver operating characteristic')\r\n",
        "plt.legend(loc=\"lower right\")\r\n",
        "plt.show()"
      ],
      "execution_count": 62,
      "outputs": [
        {
          "output_type": "display_data",
          "data": {
            "image/png": "[encoded data removed]",
            "text/plain": [
              "<Figure size 432x288 with 1 Axes>"
            ]
          },
          "metadata": {
            "tags": [],
            "needs_background": "light"
          }
        }
      ]
    },
    {
      "cell_type": "code",
      "metadata": {
        "id": "3MiHWikL4ws7"
      },
      "source": [
        ""
      ],
      "execution_count": null,
      "outputs": []
    }
  ]
}